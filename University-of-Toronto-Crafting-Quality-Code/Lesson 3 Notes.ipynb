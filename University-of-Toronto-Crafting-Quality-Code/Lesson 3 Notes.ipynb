{
 "cells": [
  {
   "cell_type": "code",
   "execution_count": 1,
   "metadata": {
    "collapsed": true
   },
   "outputs": [],
   "source": [
    "def print_ints(n):\n",
    "    \n",
    "    for i in range(1, n+1):\n",
    "        print(i)\n",
    "        \n",
    "    #Linear funcitons - run time grows LINEAR to with the size of n\n",
    "    \n",
    "def print_pairs(n):\n",
    "    \n",
    "    for i in range(1, n + 1): #n iterations\n",
    "        for j in range(1, n+1): #n iterations\n",
    "            print(i,j) #therefore called n squred times\n",
    "            \n",
    "    #so its QUADRATIC run time (if you had to pick the most efficient)\n",
    "    \n",
    "def print_douple_step(n):\n",
    "    \n",
    "    i = 1\n",
    "    while i < n + 1:\n",
    "        print(i)\n",
    "        i = i * 2\n",
    "        \n",
    "    \"\"\"\n",
    "    for 4 -> 1, 2, 3\n",
    "    for 5 -> 1, 2, 3\n",
    "    for 16 -> 5th print\n",
    "    etc as it grows - the number steps is VERY SLOW - therefore log(n)\n",
    "    \n",
    "    \"\"\"\n",
    "\n",
    "def linear_search(L,v):\n",
    "    \n",
    "    i = 0\n",
    "    while i != len(L) and v != L[i]:\n",
    "        i = i + 1\n",
    "    if(i == len(L)):\n",
    "        return -1\n",
    "    \n",
    "    #if not here, this executes\n",
    "    else:\n",
    "        return 1\n",
    "    \n",
    "\n",
    "    "
   ]
  },
  {
   "cell_type": "code",
   "execution_count": null,
   "metadata": {
    "collapsed": true
   },
   "outputs": [],
   "source": [
    "#Binary Search once again!\n",
    "\n"
   ]
  }
 ],
 "metadata": {
  "kernelspec": {
   "display_name": "Python 3",
   "language": "python",
   "name": "python3"
  },
  "language_info": {
   "codemirror_mode": {
    "name": "ipython",
    "version": 3
   },
   "file_extension": ".py",
   "mimetype": "text/x-python",
   "name": "python",
   "nbconvert_exporter": "python",
   "pygments_lexer": "ipython3",
   "version": "3.6.0"
  }
 },
 "nbformat": 4,
 "nbformat_minor": 2
}
