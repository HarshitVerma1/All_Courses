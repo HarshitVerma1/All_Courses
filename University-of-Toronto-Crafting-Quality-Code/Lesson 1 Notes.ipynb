{
 "cells": [
  {
   "cell_type": "code",
   "execution_count": 1,
   "metadata": {
    "collapsed": true
   },
   "outputs": [],
   "source": [
    "##Algorithm for Palindromes"
   ]
  },
  {
   "cell_type": "code",
   "execution_count": 2,
   "metadata": {
    "collapsed": true
   },
   "outputs": [],
   "source": [
    "def is_palindrome_v1(s):\n",
    "    \n",
    "    \"\"\"(str)-> bool\n",
    "    \n",
    "    return True if and only if s is a palindrome\n",
    "    \n",
    "    >>> is_palindrome_v1('noon')\n",
    "    True\n",
    "    >>> is_palindrome_v1('nosxon')\n",
    "    False\n",
    "    \"\"\"\n",
    "    return reverse(s) == s\n",
    "    \n",
    "def reverse():\n",
    "    rev = \"\"       ##The point of this one was a simple, reconstruct the reverse of the string, then compare\n",
    "    \n",
    "    for ch in s:\n",
    "        rev = ch + rev\n",
    "    return rev\n",
    "\n",
    "def is_palindrome_v2(s):\n",
    "    \n",
    "    \"\"\"(str)-> bool\n",
    "    \n",
    "    return True if and only if s is a palindrome\n",
    "    \n",
    "    >>> is_palindrome_v1('noon')\n",
    "    True\n",
    "    >>> is_palindrome_v1('nosxon')\n",
    "    False\n",
    "    \"\"\"   \n",
    "    \n",
    "    ##IN this instance, we compare the FIRST half to the SECOND Half\n",
    "    n = len(s)\n",
    "    return s[:n//2] == reverse(s[n-n//2:])\n",
    "    \n",
    "def is_palindrome_v3(s):\n",
    "    \n",
    "    \"\"\"(str)-> bool\n",
    "    \n",
    "    return True if and only if s is a palindrome\n",
    "    \n",
    "    >>> is_palindrome_v1('noon')\n",
    "    True\n",
    "    >>> is_palindrome_v1('nosxon')\n",
    "    False\n",
    "    \"\"\"\n",
    "    ##in this instance, we are moving TOWARDS the cetre\n",
    "    i = 0\n",
    "    j = len(s) - 1 \n",
    "    \n",
    "    while i < j and s[i] == s[j]:\n",
    "        i = i + 1\n",
    "        j = j -1\n",
    "        \n",
    "    return j <= 1"
   ]
  },
  {
   "cell_type": "code",
   "execution_count": null,
   "metadata": {
    "collapsed": true
   },
   "outputs": [],
   "source": [
    "## Restaurant notes\n",
    "\"\"\"\n",
    "Make notes on what is in the data\n",
    "\"\"\"\n",
    "6 8 9 12\n"
   ]
  }
 ],
 "metadata": {
  "kernelspec": {
   "display_name": "Python 3",
   "language": "python",
   "name": "python3"
  },
  "language_info": {
   "codemirror_mode": {
    "name": "ipython",
    "version": 3
   },
   "file_extension": ".py",
   "mimetype": "text/x-python",
   "name": "python",
   "nbconvert_exporter": "python",
   "pygments_lexer": "ipython3",
   "version": "3.6.0"
  }
 },
 "nbformat": 4,
 "nbformat_minor": 2
}
