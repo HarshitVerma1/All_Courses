{
 "cells": [
  {
   "cell_type": "code",
   "execution_count": 1,
   "metadata": {},
   "outputs": [
    {
     "name": "stdout",
     "output_type": "stream",
     "text": [
      "Requirement already satisfied: geocoder in c:\\users\\acer\\anaconda3\\lib\\site-packages (1.38.1)\n",
      "Requirement already satisfied: requests in c:\\users\\acer\\anaconda3\\lib\\site-packages (from geocoder) (2.14.2)\n",
      "Requirement already satisfied: six in c:\\users\\acer\\anaconda3\\lib\\site-packages (from geocoder) (1.10.0)\n",
      "Requirement already satisfied: future in c:\\users\\acer\\anaconda3\\lib\\site-packages (from geocoder) (0.18.0)\n",
      "Requirement already satisfied: click in c:\\users\\acer\\anaconda3\\lib\\site-packages (from geocoder) (6.7)\n",
      "Requirement already satisfied: ratelim in c:\\users\\acer\\anaconda3\\lib\\site-packages (from geocoder) (0.1.6)\n",
      "Requirement already satisfied: decorator in c:\\users\\acer\\anaconda3\\lib\\site-packages (from ratelim->geocoder) (4.0.11)\n",
      "Requirement already satisfied: geopy in c:\\users\\acer\\anaconda3\\lib\\site-packages (1.20.0)\n",
      "Requirement already satisfied: geographiclib<2,>=1.49 in c:\\users\\acer\\anaconda3\\lib\\site-packages (from geopy) (1.50)\n",
      "Requirement already satisfied: wget in c:\\users\\acer\\anaconda3\\lib\\site-packages (3.2)\n",
      "Libraries imported.\n"
     ]
    }
   ],
   "source": [
    "import sys\n",
    "!{sys.executable} -m pip install geocoder\n",
    "!{sys.executable} -m pip install geopy\n",
    "!{sys.executable} -m pip install wget\n",
    "\n",
    "import numpy as np # library to handle data in a vectorized manner\n",
    "\n",
    "import pandas as pd # library for data analsysis\n",
    "pd.set_option('display.max_columns', None)\n",
    "pd.set_option('display.max_rows', None)\n",
    "\n",
    "import json # library to handle JSON files\n",
    "\n",
    "#!conda install -c conda-forge geopy --yes # uncomment this line if you haven't completed the Foursquare API lab\n",
    "from geopy.geocoders import Nominatim # convert an address into latitude and longitude values\n",
    "\n",
    "import requests # library to handle requests\n",
    "from pandas.io.json import json_normalize # tranform JSON file into a pandas dataframe\n",
    "\n",
    "# Matplotlib and associated plotting modules\n",
    "import matplotlib.cm as cm\n",
    "import matplotlib.colors as colors\n",
    "\n",
    "# import k-means from clustering stage\n",
    "from sklearn.cluster import KMeans\n",
    "\n",
    "#!conda install -c conda-forge folium=0.5.0 --yes # uncomment this line if you haven't completed the Foursquare API lab\n",
    "import folium # map rendering library\n",
    "\n",
    "print('Libraries imported.')"
   ]
  },
  {
   "cell_type": "code",
   "execution_count": 2,
   "metadata": {},
   "outputs": [
    {
     "name": "stdout",
     "output_type": "stream",
     "text": [
      "49bbd6c0f964a520f4531fe3 :  7   -->  ['470', '1034', '445', '882', '806', '878', '949']\n",
      "\n",
      "4a43c0aef964a520c6a61fe3 :  37   -->  ['979', '319', '1047', '582', '783', '43', '724', '2', '335', '508', '120', '784', '285', '699', '716', '50', '721', '521', '160', '583', '590', '494', '1000', '949', '111', '29', '864', '580', '472', '322', '673', '343', '554', '844', '59', '398', '555']\n",
      "\n",
      "4c5cc7b485a1e21e00d35711 :  1   -->  ['69']\n",
      "\n",
      "4bc7086715a7ef3bef9878da :  1   -->  ['395']\n",
      "\n",
      "4cf2c5321d18a143951b5cec :  4   -->  ['87', '977', '427', '372']\n",
      "\n"
     ]
    }
   ],
   "source": [
    "from collections import defaultdict\n",
    "\n",
    "venues = defaultdict(list)\n",
    "categories = {}\n",
    "coordinates = []\n",
    "\n",
    "with open('data/NYC.txt') as nyc_data:\n",
    "    for venue in nyc_data.readlines():\n",
    "        data = venue.split('\\t')\n",
    "        \n",
    "        # get the coordinates for the shop\n",
    "        coordinates.insert(len(coordinates), [data[4], data[5]])\n",
    "        \n",
    "        # store the shop id and the user ids\n",
    "        if data[1] not in venues:\n",
    "            venues[data[1]].append(data[0])\n",
    "        elif data[0] not in venues[data[1]]:\n",
    "            venues[data[1]].append(data[0])\n",
    "            \n",
    "        # store the type of the shop and its id\n",
    "        if data[1] not in categories:\n",
    "            categories[data[1]] = data[3]\n",
    "                \n",
    "        \n",
    "# example for 5 places and their visitors according to check-ins\n",
    "for i in range(5):\n",
    "    print(list(venues)[i], \": \", len(venues.get(list(venues)[i])), \"  --> \", venues.get(list(venues)[i]))\n",
    "    print()"
   ]
  },
  {
   "cell_type": "code",
   "execution_count": 3,
   "metadata": {},
   "outputs": [
    {
     "data": {
      "text/html": [
       "<div>\n",
       "<style>\n",
       "    .dataframe thead tr:only-child th {\n",
       "        text-align: right;\n",
       "    }\n",
       "\n",
       "    .dataframe thead th {\n",
       "        text-align: left;\n",
       "    }\n",
       "\n",
       "    .dataframe tbody tr th {\n",
       "        vertical-align: top;\n",
       "    }\n",
       "</style>\n",
       "<table border=\"1\" class=\"dataframe\">\n",
       "  <thead>\n",
       "    <tr style=\"text-align: right;\">\n",
       "      <th></th>\n",
       "      <th>VenueID</th>\n",
       "      <th>CategoryName</th>\n",
       "      <th>Visitor Count</th>\n",
       "      <th>Latitude</th>\n",
       "      <th>Longitude</th>\n",
       "    </tr>\n",
       "  </thead>\n",
       "  <tbody>\n",
       "  </tbody>\n",
       "</table>\n",
       "</div>"
      ],
      "text/plain": [
       "Empty DataFrame\n",
       "Columns: [VenueID, CategoryName, Visitor Count, Latitude, Longitude]\n",
       "Index: []"
      ]
     },
     "execution_count": 3,
     "metadata": {},
     "output_type": "execute_result"
    }
   ],
   "source": [
    "# define the dataframe columns\n",
    "column_names = ['VenueID', 'CategoryName', 'Visitor Count', 'Latitude', 'Longitude'] \n",
    "\n",
    "# instantiate the dataframe\n",
    "venue_data = pd.DataFrame(columns=column_names)\n",
    "\n",
    "venue_data"
   ]
  },
  {
   "cell_type": "code",
   "execution_count": 4,
   "metadata": {
    "collapsed": true
   },
   "outputs": [],
   "source": [
    "# loop through the data and fill the dataframe one row at a time.\n",
    "for idx in range(0, 2000):\n",
    "    venue_id = list(venues)[idx]\n",
    "    coords = list(coordinates)[idx]\n",
    "    visitorCount = len(venues.get(venue_id))\n",
    "    venue_type = categories.get(venue_id)\n",
    "\n",
    "\n",
    "    venue_data = venue_data.append({ 'CategoryName': venue_type,\n",
    "                                     'VenueID': venue_id,\n",
    "                                     'Visitor Count': visitorCount,\n",
    "                                     'Latitude': coords[0],\n",
    "                                     'Longitude': coords[1]}, ignore_index=True)"
   ]
  },
  {
   "cell_type": "code",
   "execution_count": 5,
   "metadata": {},
   "outputs": [
    {
     "data": {
      "text/html": [
       "<div>\n",
       "<style>\n",
       "    .dataframe thead tr:only-child th {\n",
       "        text-align: right;\n",
       "    }\n",
       "\n",
       "    .dataframe thead th {\n",
       "        text-align: left;\n",
       "    }\n",
       "\n",
       "    .dataframe tbody tr th {\n",
       "        vertical-align: top;\n",
       "    }\n",
       "</style>\n",
       "<table border=\"1\" class=\"dataframe\">\n",
       "  <thead>\n",
       "    <tr style=\"text-align: right;\">\n",
       "      <th></th>\n",
       "      <th>VenueID</th>\n",
       "      <th>CategoryName</th>\n",
       "      <th>Visitor Count</th>\n",
       "      <th>Latitude</th>\n",
       "      <th>Longitude</th>\n",
       "    </tr>\n",
       "  </thead>\n",
       "  <tbody>\n",
       "    <tr>\n",
       "      <th>0</th>\n",
       "      <td>49bbd6c0f964a520f4531fe3</td>\n",
       "      <td>Arts &amp; Crafts Store</td>\n",
       "      <td>7</td>\n",
       "      <td>40.719810375488535</td>\n",
       "      <td>-74.00258103213994</td>\n",
       "    </tr>\n",
       "    <tr>\n",
       "      <th>1</th>\n",
       "      <td>4a43c0aef964a520c6a61fe3</td>\n",
       "      <td>Bridge</td>\n",
       "      <td>37</td>\n",
       "      <td>40.60679958140643</td>\n",
       "      <td>-74.04416981025437</td>\n",
       "    </tr>\n",
       "    <tr>\n",
       "      <th>2</th>\n",
       "      <td>4c5cc7b485a1e21e00d35711</td>\n",
       "      <td>Home (private)</td>\n",
       "      <td>1</td>\n",
       "      <td>40.716161684843215</td>\n",
       "      <td>-73.88307005845945</td>\n",
       "    </tr>\n",
       "    <tr>\n",
       "      <th>3</th>\n",
       "      <td>4bc7086715a7ef3bef9878da</td>\n",
       "      <td>Medical Center</td>\n",
       "      <td>1</td>\n",
       "      <td>40.7451638</td>\n",
       "      <td>-73.982518775</td>\n",
       "    </tr>\n",
       "    <tr>\n",
       "      <th>4</th>\n",
       "      <td>4cf2c5321d18a143951b5cec</td>\n",
       "      <td>Food Truck</td>\n",
       "      <td>4</td>\n",
       "      <td>40.74010382743943</td>\n",
       "      <td>-73.98965835571289</td>\n",
       "    </tr>\n",
       "  </tbody>\n",
       "</table>\n",
       "</div>"
      ],
      "text/plain": [
       "                    VenueID         CategoryName Visitor Count  \\\n",
       "0  49bbd6c0f964a520f4531fe3  Arts & Crafts Store             7   \n",
       "1  4a43c0aef964a520c6a61fe3               Bridge            37   \n",
       "2  4c5cc7b485a1e21e00d35711       Home (private)             1   \n",
       "3  4bc7086715a7ef3bef9878da       Medical Center             1   \n",
       "4  4cf2c5321d18a143951b5cec           Food Truck             4   \n",
       "\n",
       "             Latitude           Longitude  \n",
       "0  40.719810375488535  -74.00258103213994  \n",
       "1   40.60679958140643  -74.04416981025437  \n",
       "2  40.716161684843215  -73.88307005845945  \n",
       "3          40.7451638       -73.982518775  \n",
       "4   40.74010382743943  -73.98965835571289  "
      ]
     },
     "execution_count": 5,
     "metadata": {},
     "output_type": "execute_result"
    }
   ],
   "source": [
    "# Quickly examine the resulting dataframe.\n",
    "venue_data.head()"
   ]
  },
  {
   "cell_type": "code",
   "execution_count": 6,
   "metadata": {},
   "outputs": [
    {
     "name": "stdout",
     "output_type": "stream",
     "text": [
      "The dataframe has 2000 venues with total of 12248 visitors.\n"
     ]
    }
   ],
   "source": [
    "print('The dataframe has {} venues with total of {} visitors.'.format(\n",
    "        len(venue_data['VenueID'].unique()),\n",
    "        sum(venue_data['Visitor Count'])\n",
    "    )\n",
    ")"
   ]
  },
  {
   "cell_type": "code",
   "execution_count": 6,
   "metadata": {
    "collapsed": true
   },
   "outputs": [],
   "source": [
    "import math as Math\n",
    "def pointInCircle(lat0, lon0, r, lat, lon):  \n",
    "    C = 40075.04                                               # Earth circumference\n",
    "    A = 360*r/C                                                # semi-minor in north-south direction \n",
    "    B = A/Math.cos(Math.radians(float(lat0)));                 # semi-major in east-west direction\n",
    "    return Math.pow((float(lat)-float(lat0))/A, 2) + Math.pow((float(lon)-float(lon0))/B, 2) < 1;"
   ]
  },
  {
   "cell_type": "code",
   "execution_count": 7,
   "metadata": {},
   "outputs": [
    {
     "name": "stdout",
     "output_type": "stream",
     "text": [
      "[('Train Station', 943), ('Park', 778), ('Airport', 769), ('Bar', 756), ('Subway', 587), ('Coffee Shop', 447), ('Gym / Fitness Center', 447), ('Food & Drink Shop', 426), ('Neighborhood', 362), ('Plaza', 342), ('Stadium', 339), ('Bridge', 272), ('Office', 264), ('Department Store', 240), ('Mall', 238), ('Burger Joint', 206), ('American Restaurant', 202), ('Road', 201), ('Bus Station', 196), ('Hotel', 184), ('Other Great Outdoors', 178), ('Music Venue', 166), ('Home (private)', 158), ('Mexican Restaurant', 154), ('Electronics Store', 137), ('Ferry', 126), ('College Academic Building', 116), ('Sandwich Place', 115), ('BBQ Joint', 109), ('Bookstore', 105), ('Building', 100), ('Medical Center', 94), ('University', 94), ('Clothing Store', 89), ('Drugstore / Pharmacy', 83), ('Beach', 72), ('Government Building', 70), ('Convention Center', 70), ('Sporting Goods Shop', 68), ('Bakery', 68), ('Fast Food Restaurant', 59), ('Chinese Restaurant', 59), ('Theater', 57), ('Deli / Bodega', 55), ('Movie Theater', 53), ('Food Truck', 51), ('Sushi Restaurant', 50), ('Pizza Place', 47), ('General Entertainment', 47), ('Ice Cream Shop', 46), ('Bank', 45), ('Miscellaneous Shop', 41), ('Light Rail', 40), ('Church', 38), ('Concert Hall', 38), ('French Restaurant', 36), ('Seafood Restaurant', 35), ('Fried Chicken Joint', 34), ('Residential Building (Apartment / Condo)', 33), ('Italian Restaurant', 33), ('Comedy Club', 33), ('Diner', 30), ('Toy / Game Store', 29), ('Vegetarian / Vegan Restaurant', 27), ('Café', 26), ('Community College', 26), ('Scenic Lookout', 24), ('Donut Shop', 23), ('German Restaurant', 23), ('Bowling Alley', 22), ('Beer Garden', 22), ('Gastropub', 19), ('Candy Store', 19), ('Bagel Shop', 19), ('Cuban Restaurant', 18), ('School', 18), ('Cupcake Shop', 18), ('Breakfast Spot', 18), ('General Travel', 17), ('Salon / Barbershop', 16), ('General College & University', 16), ('Hardware Store', 16), ('Japanese Restaurant', 16), ('Latin American Restaurant', 15), ('Athletic & Sport', 15), ('Restaurant', 13), ('Spanish Restaurant', 12), ('Spa / Massage', 12), ('Middle Eastern Restaurant', 12), ('Malaysian Restaurant', 12), ('Record Shop', 12), ('Library', 12), ('Student Center', 11), ('Wings Joint', 11), ('High School', 11), ('Arts & Crafts Store', 10), ('Laundry Service', 10), ('Gas Station / Garage', 10), ('Asian Restaurant', 9), ('Burrito Place', 9), ('Parking', 9), ('Harbor / Marina', 9), ('Thai Restaurant', 9), ('Playground', 8), ('Campground', 8), ('Salad Place', 8), ('Event Space', 8), ('Pool Hall', 8), ('Ramen /  Noodle House', 8), ('Automotive Shop', 7), ('Convenience Store', 7), ('Tea Room', 7), ('Post Office', 7), ('Indian Restaurant', 7), ('River', 7), ('Thrift / Vintage Store', 7), ('Paper / Office Supplies Store', 6), ('Cosmetics Shop', 6), ('Dessert Shop', 6), ('Museum', 6), ('Pet Store', 6), ('College & University', 6), ('Brazilian Restaurant', 6), ('Tanning Salon', 5), ('Bike Shop', 5), ('Art Gallery', 5), ('Arts & Entertainment', 5), ('Food', 5), ('Southern / Soul Food Restaurant', 4), ('Smoke Shop', 4), ('College Theater', 4), ('Snack Place', 4), ('Furniture / Home Store', 4), ('Sculpture Garden', 4), ('Mobile Phone Shop', 3), ('Tattoo Parlor', 3), ('Other Nightlife', 3), ('Moving Target', 3), ('Caribbean Restaurant', 3), ('Video Game Store', 3), ('Arcade', 3), ('Steakhouse', 3), ('Greek Restaurant', 3), ('Soup Place', 2), ('Music Store', 2), ('Dumpling Restaurant', 2), ('Performing Arts Venue', 2), ('Camera Store', 2), ('Housing Development', 2), ('Synagogue', 2), ('Mediterranean Restaurant', 2), ('African Restaurant', 2), ('Taxi', 2), ('Professional & Other Places', 2), ('Taco Place', 2), ('Jewelry Store', 1), ('Animal Shelter', 1), ('Factory', 1), ('Cemetery', 1), ('Medical School', 1), ('Pool', 1), ('Garden', 1), ('Hot Dog Joint', 1), ('Outdoors & Recreation', 1), ('Sorority House', 1), ('Casino', 1), ('Temple', 1), ('Historic Site', 1), ('Rest Area', 1), ('History Museum', 1), ('Recycling Facility', 1), ('Bridal Shop', 1), ('Nail Salon', 1), ('Nursery School', 1), ('Antique Shop', 1), ('South American Restaurant', 1), ('Law School', 1), ('Winery', 1)]\n",
      "\n",
      "'Bar' is the most visited commercial category according to given data.\n"
     ]
    }
   ],
   "source": [
    "someCategories = ['Food & Drink Shop', 'Electronics Store', 'Coffee Shop', 'Restaurant', 'Arts & Crafts Store', 'Gastropub', \n",
    "                  'Mobile Phone Shop', 'Café', 'Automative Shop', 'American Restaurant', 'Food & Drink Shop', 'Burger Joint',\n",
    "                  'Mexican Restaurant', 'Sandwich Place', 'Clothing Store', 'Ice Cream Shop', 'Pizza Place', 'Jewelry Store', \n",
    "                  'Soup Place', 'Tattoo Parlor', 'Deli / Bodega', 'Diner', 'Salon / Barbershop', 'Laundry Service', 'Bar', \n",
    "                  'Gym / Fitness Center', 'Hotel', 'Music Venue', 'BBQ Joint', 'Bookstore', 'Drugstore / Pharmacy',\n",
    "                  'Sporting Goods Shop', 'Bakery', 'Fast Food Restaurant', 'Chinese Restaurant', 'Theater', 'Movie Theater', \n",
    "                  'Sushi Restaurant', 'Miscellaneous Shop', 'French Restaurant', 'Seafood Restaurant', 'Fried Chicken Joint', \n",
    "                  'Italian Restaurant', 'Toy / Game Store', 'Vegetarian / Vegan Restaurant', 'Donut Shop', 'German Restaurant', \n",
    "                  'Bowling Alley', 'Beer Garden', 'Candy Store', 'Bagel Shop', 'Cuban Restaurant', 'Cupcake Shop', \n",
    "                  'Breakfast Spot', 'Hardware Store', 'Japanese Restaurant',  'Latin American Restaurant', 'Spanish Restaurant',\n",
    "                  'Spa / Massage', 'Middle Eastern Restaurant', 'Malaysian Restaurant', 'Record Shop', 'Wings Joint', \n",
    "                  'Gas Station / Garage', 'Asian Restaurant', 'Burrito Place', 'Thai Restaurant', 'Salad Place', \n",
    "                  'Ramen /  Noodle House', 'Automotive Shop', 'Convenience Store', 'Tea Room',  'Indian Restaurant', \n",
    "                  'Thrift / Vintage Store', 'Paper / Office Supplies Store', 'Cosmetics Shop', 'Southern / Soul Food Restaurant',\n",
    "                  'Smoke Shop', 'Snack Place', 'Furniture / Home Store', 'Caribbean Restaurant', 'Video Game Store', 'Steakhouse',\n",
    "                  'Greek Restaurant', 'Dumpling Restaurant', 'Mediterranean Restaurant', 'African Restaurant', 'Taco Place', \n",
    "                  'Jewelry Store', 'Hot Dog Joint', 'South American Restaurant', 'Winery']\n",
    "\n",
    "visitForCategories = {}\n",
    "maxVisited = \"\"\n",
    "\n",
    "# count the number of visitors for categories\n",
    "for idx in range(0, 2000):\n",
    "    venue_id = list(venues)[idx]\n",
    "    visitorCount = len(venues.get(venue_id))\n",
    "    venue_type = categories.get(venue_id)\n",
    "    \n",
    "    if venue_type not in visitForCategories:\n",
    "        visitForCategories[venue_type] = visitorCount\n",
    "    else: \n",
    "        visitForCategories[venue_type] = visitForCategories[venue_type]+visitorCount\n",
    "        \n",
    "# visitForCategories\n",
    "sorted_dict = sorted(visitForCategories.items(), key=lambda x: x[1], reverse=True)\n",
    "for v in sorted_dict:\n",
    "    if v[0] in someCategories:\n",
    "        maxVisited = v[0]\n",
    "        break\n",
    "        \n",
    "# category names with their visit number\n",
    "sorted_dict = sorted(visitForCategories.items(), key=lambda x: x[1], reverse=True)\n",
    "print(sorted_dict)\n",
    "\n",
    "print()\n",
    "\n",
    "# Max visited category\n",
    "print(\"'\" + maxVisited + \"'\", \"is the most visited commercial category according to given data.\")"
   ]
  },
  {
   "cell_type": "code",
   "execution_count": 8,
   "metadata": {},
   "outputs": [
    {
     "name": "stdout",
     "output_type": "stream",
     "text": [
      "Coordinates with number of Bar shops within 4 kilometers according to 2000 venues.\n",
      "\n",
      "('40.60613336268842', '-74.17904376983643') : 2\n",
      "('40.719810375488535', '-74.00258103213994') : 0\n",
      "('40.60679958140643', '-74.04416981025437') : 0\n",
      "('40.716161684843215', '-73.88307005845945') : 0\n",
      "('40.69042711809854', '-73.95468677509598') : 0\n",
      "('40.751591431346306', '-73.9741214009634') : 0\n",
      "('40.61900594093755', '-73.99037472596906') : 0\n",
      "('40.71976226666666', '-74.250014') : 0\n",
      "('40.86198150306815', '-74.04790453737951') : 0\n",
      "('40.82678953781387', '-73.94950923509141') : 0\n",
      "('40.906627', '-73.777774') : 0\n",
      "('40.73067679262482', '-74.06567180055883') : 0\n",
      "('40.64531729239498', '-73.77383708953857') : 0\n",
      "('40.79059946897114', '-73.98023377661316') : 0\n",
      "('40.655535144394925', '-74.00862937888984') : 0\n",
      "('40.86283581665962', '-74.19723987579346') : 0\n",
      "('40.901057866884024', '-74.1507625579834') : 0\n",
      "('40.963240757086346', '-74.09463109843134') : 0\n",
      "('40.77615805031661', '-73.82361593360073') : 0\n",
      "('40.92431190858341', '-73.99688829591487') : 0\n",
      "('40.786713', '-74.175476') : 0\n",
      "('40.74710920467287', '-74.15280867121942') : 0\n",
      "('40.771046', '-74.065758') : 0\n",
      "('40.725891', '-73.79143081000001') : 0\n",
      "('40.83162208784265', '-74.13679361343384') : 0\n",
      "('40.828602195433966', '-73.87925863265991') : 0\n",
      "('40.60014371940161', '-73.94659322025349') : 0\n",
      "('40.8706300946324', '-74.09792627389562') : 0\n",
      "('40.677558813432675', '-73.74452479795166') : 0\n",
      "('40.82358935335903', '-74.22380201337529') : 0\n",
      "('40.8134844303353', '-74.07433032989502') : 0\n",
      "('40.75568181015381', '-73.88307005845945') : 0\n",
      "('40.68968493541091', '-74.17938709259033') : 0\n",
      "('40.89621269901943', '-73.87670483270945') : 0\n",
      "('40.66421141550086', '-73.91474954903893') : 0\n",
      "('40.925826', '-73.835898') : 0\n",
      "('40.77226863280218', '-73.93010370763156') : 0\n",
      "('40.87097828520945', '-73.82876808947316') : 0\n",
      "('40.57562689089684', '-73.98329850027537') : 0\n",
      "('40.83309951197968', '-74.01021480560303') : 0\n",
      "('40.6444055420497', '-74.0729570388794') : 0\n",
      "('40.917335441802095', '-74.0756607055664') : 0\n",
      "('40.634045330266964', '-74.14161270853154') : 0\n",
      "('40.896905775860006', '-74.03017044067383') : 0\n",
      "('40.78898753071118', '-74.25901478846667') : 0\n",
      "('40.66342760828679', '-74.23399686813354') : 0\n",
      "('40.75605706725121', '-74.23554035653764') : 0\n",
      "('40.7541179388902', '-73.73833613617441') : 0\n",
      "('40.5899058561196', '-73.8995361328125') : 0\n",
      "('40.78280355158054', '-73.77417256445159') : 0\n",
      "('40.579124179746714', '-73.82426211435131') : 0\n",
      "('40.72465693431455', '-73.70641708374023') : 0\n",
      "('40.86107855194721', '-73.93010370763155') : 0\n",
      "('40.69526162612937', '-73.8441376028445') : 0\n",
      "('40.93865397046296', '-74.12986841096105') : 0\n",
      "('40.94975203974169', '-73.93010370763155') : 0\n",
      "('40.65079702473058', '-73.95877360445469') : 0\n",
      "Coordinate that has the given specific shop the most:  ('40.60613336268842', '-74.17904376983643')\n"
     ]
    }
   ],
   "source": [
    "mostVisitedCommercialPlace = {}\n",
    "visited = []\n",
    "\n",
    "r = 4              # kilometers\n",
    "n = 2000           # venues\n",
    "\n",
    "# maxVisited ='Food & Drink Shop'\n",
    "\n",
    "for idx in range(0, n):\n",
    "    coords = list(coordinates)[idx]\n",
    "    if tuple(coords) in visited:\n",
    "        continue\n",
    "    visited.append(tuple(coords))\n",
    "\n",
    "    storeCount = {}\n",
    "    for tempVal in range(0, n):\n",
    "        venue_id = list(venues)[idx]\n",
    "        temp_coord = list(coordinates)[tempVal]\n",
    "        venue_type = categories.get(venue_id)\n",
    "    \n",
    "        if pointInCircle(coords[0], coords[1], r, temp_coord[0], temp_coord[1]) and tuple(temp_coord) not in visited:\n",
    "            \n",
    "            visited.append(tuple(temp_coord))\n",
    "            if venue_type not in storeCount:\n",
    "                storeCount[venue_type] = 1\n",
    "            else:\n",
    "                storeCount[venue_type] = storeCount.get(venue_type)+1\n",
    "\n",
    "        if maxVisited not in storeCount:\n",
    "            mostVisitedCommercialPlace[tuple(coords)] = 0\n",
    "        else: \n",
    "            mostVisitedCommercialPlace[tuple(coords)] = storeCount.get(maxVisited)\n",
    "            \n",
    "noneShops = []\n",
    "sorted_dict = sorted(mostVisitedCommercialPlace.items(), key=lambda x: x[1], reverse=True)\n",
    "print(\"Coordinates with number of \" + maxVisited + \" shops within\", r, \"kilometers according to\", n, \"venues.\")\n",
    "print()\n",
    "for c in sorted_dict:\n",
    "    print(c[0], \":\", c[1])\n",
    "    if c[1] < 2:\n",
    "        noneShops.append(tuple(c[0]))\n",
    "        \n",
    "        \n",
    "mostShopCoord = list(sorted_dict)[0][0]\n",
    "del sorted_dict[0]\n",
    "print(\"Coordinate that has the given specific shop the most: \", mostShopCoord)"
   ]
  },
  {
   "cell_type": "code",
   "execution_count": 47,
   "metadata": {},
   "outputs": [
    {
     "data": {
      "text/plain": [
       "[]"
      ]
     },
     "execution_count": 47,
     "metadata": {},
     "output_type": "execute_result"
    }
   ],
   "source": [
    "# get the closest coordinates with less than 2 of the given type of shop to the coordinate that attracts the most visitors\n",
    "\n",
    "from math import cos, asin, sqrt\n",
    "nearNeighborhoods = []\n",
    "\n",
    "def distance(lat1, lon1, lat2, lon2):\n",
    "    p = 0.017453292519943295\n",
    "    a = 0.5 - cos((lat2-lat1)*p)/2 + cos(lat1*p)*cos(lat2*p) * (1-cos((lon2-lon1)*p)) / 2\n",
    "    return 12742 * asin(sqrt(a))\n",
    "\n",
    "def closest(data, v):\n",
    "    return min(data, key=lambda p: distance(float(v[0]),float(v[1]),float(p[0][0]),float(p[0][1])) if p[0] not in nearNeighborhoods else 9999)\n",
    "\n",
    "# for i in range(10):\n",
    "#     nearNeighborhoods.append(closest(list(sorted_dict), list(sorted_dict)[0][0])[0])\n",
    "    \n",
    "nearNeighborhoods"
   ]
  },
  {
   "cell_type": "code",
   "execution_count": 55,
   "metadata": {},
   "outputs": [
    {
     "ename": "KeyError",
     "evalue": "'venues'",
     "output_type": "error",
     "traceback": [
      "\u001b[1;31m---------------------------------------------------------------------------\u001b[0m",
      "\u001b[1;31mKeyError\u001b[0m                                  Traceback (most recent call last)",
      "\u001b[1;32m<ipython-input-55-6b8925554b3e>\u001b[0m in \u001b[0;36m<module>\u001b[1;34m()\u001b[0m\n\u001b[0;32m      6\u001b[0m     float(mostShopCoord[0]), float(mostShopCoord[1]))).json()\n\u001b[0;32m      7\u001b[0m \u001b[1;33m\u001b[0m\u001b[0m\n\u001b[1;32m----> 8\u001b[1;33m \u001b[0mcenterNeighborhood\u001b[0m \u001b[1;33m=\u001b[0m \u001b[0mcenterNeighborhoodData\u001b[0m\u001b[1;33m[\u001b[0m\u001b[1;34m'response'\u001b[0m\u001b[1;33m]\u001b[0m\u001b[1;33m[\u001b[0m\u001b[1;34m'venues'\u001b[0m\u001b[1;33m]\u001b[0m\u001b[1;33m[\u001b[0m\u001b[1;36m0\u001b[0m\u001b[1;33m]\u001b[0m\u001b[1;33m[\u001b[0m\u001b[1;34m'location'\u001b[0m\u001b[1;33m]\u001b[0m\u001b[1;33m[\u001b[0m\u001b[1;34m'formattedAddress'\u001b[0m\u001b[1;33m]\u001b[0m\u001b[1;33m\u001b[0m\u001b[0m\n\u001b[0m\u001b[0;32m      9\u001b[0m \u001b[1;33m\u001b[0m\u001b[0m\n\u001b[0;32m     10\u001b[0m \u001b[1;32mwhile\u001b[0m \u001b[0mlen\u001b[0m\u001b[1;33m(\u001b[0m\u001b[0mneighborhoods\u001b[0m\u001b[1;33m)\u001b[0m \u001b[1;33m!=\u001b[0m \u001b[0mfindNumOfPlaces\u001b[0m\u001b[1;33m:\u001b[0m\u001b[1;33m\u001b[0m\u001b[0m\n",
      "\u001b[1;31mKeyError\u001b[0m: 'venues'"
     ]
    }
   ],
   "source": [
    "# get the 2 coordinates with less than 2 shops within range and find their neighborhoods\n",
    "neighborhoods = {}\n",
    "findNumOfPlaces = 2\n",
    "\n",
    "centerNeighborhoodData = requests.get('https://api.foursquare.com/v2/venues/search?&client_id=JGGBRN5XODTLZGJOMCSWIQMRH1JLGJKPSFR10XNB2R5U25GR&client_secret=KWRAMLK2HOJBQ2XLICLKXRU3M4HOCC1U2VG4Y4OPP5JF03QX&v=20180605&ll={},{}&limit=1'.format(\n",
    "    float(mostShopCoord[0]), float(mostShopCoord[1]))).json()\n",
    "\n",
    "centerNeighborhood = centerNeighborhoodData['response']['venues'][0]['location']['formattedAddress']\n",
    "\n",
    "while len(neighborhoods) != findNumOfPlaces:\n",
    "    nearNeighborhoods.append(closest(list(sorted_dict), mostShopCoord)[0])\n",
    "    lat = nearNeighborhoods[-1][0]\n",
    "    lng = nearNeighborhoods[-1][1]\n",
    "    url = 'https://api.foursquare.com/v2/venues/search?&client_id=JGGBRN5XODTLZGJOMCSWIQMRH1JLGJKPSFR10XNB2R5U25GR&client_secret=KWRAMLK2HOJBQ2XLICLKXRU3M4HOCC1U2VG4Y4OPP5JF03QX&v=20180605&ll={},{}&limit=1'.format(\n",
    "    lat, lng)\n",
    "    \n",
    "    results = requests.get(url).json()\n",
    "    \n",
    "    try:\n",
    "        neighborhoods[results['response']['venues'][0]['location']['neighborhood']] = tuple([lat,lng])\n",
    "    except:\n",
    "        continue\n",
    "\n",
    "# print out the selected neighborhoods which are okay to get in. ( having no more than 1 shop within given range )\n",
    "for ne in neighborhoods:\n",
    "    print(ne)"
   ]
  },
  {
   "cell_type": "code",
   "execution_count": null,
   "metadata": {
    "scrolled": false
   },
   "outputs": [],
   "source": [
    "# the red dot in the map is the center which has the most shops within given range\n",
    "\n",
    "import folium\n",
    "\n",
    "mapit = folium.Map( location=[40.7128, -74.0060], zoom_start=11 )\n",
    "latlon = []\n",
    "neighboorhoodNames = []\n",
    "\n",
    "for name, coords in neighborhoods.items():    # for name, age in dictionary.iteritems():  (for Python 2.x)\n",
    "    latlon.append(tuple([float(coords[0]), float(coords[1])]))\n",
    "    neighboorhoodNames.append(name)\n",
    "\n",
    "\n",
    "# shop's coordinates with the most number of the given shop\n",
    "folium.CircleMarker(\n",
    "        [mostShopCoord[0], mostShopCoord[1]],\n",
    "        radius=5,\n",
    "        color='#ff0000',\n",
    "        fill=True,\n",
    "        fill_color='#ff0000',\n",
    "        popup=folium.Popup('{}, NY'.format(centerNeighborhood), parse_html=True),\n",
    "        parse_html=False,\n",
    "        fill_opacity=0.7).add_to(mapit)\n",
    "\n",
    "\n",
    "# label the potential neighborhoods\n",
    "for c, n in zip(latlon, neighboorhoodNames):\n",
    "    label = '{}, NY'.format(n)\n",
    "    label = folium.Popup(label, parse_html=True)\n",
    "\n",
    "    folium.Marker( location=[ c[0], c[1] ], fill_color='#43d9de', radius=8, popup=label, parse_html=False ).add_to( mapit )\n",
    "\n",
    "mapit\n",
    "# mapit.save( 'map.html')"
   ]
  },
  {
   "cell_type": "code",
   "execution_count": null,
   "metadata": {
    "collapsed": true
   },
   "outputs": [],
   "source": []
  }
 ],
 "metadata": {
  "kernelspec": {
   "display_name": "Python 3",
   "language": "python",
   "name": "python3"
  },
  "language_info": {
   "codemirror_mode": {
    "name": "ipython",
    "version": 3
   },
   "file_extension": ".py",
   "mimetype": "text/x-python",
   "name": "python",
   "nbconvert_exporter": "python",
   "pygments_lexer": "ipython3",
   "version": "3.6.1"
  }
 },
 "nbformat": 4,
 "nbformat_minor": 2
}
